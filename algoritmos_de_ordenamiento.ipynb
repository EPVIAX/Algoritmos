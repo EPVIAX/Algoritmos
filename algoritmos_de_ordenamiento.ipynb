{
  "nbformat": 4,
  "nbformat_minor": 0,
  "metadata": {
    "colab": {
      "provenance": [],
      "authorship_tag": "ABX9TyPEYCvk2wI8LkX/yjs76naC",
      "include_colab_link": true
    },
    "kernelspec": {
      "name": "python3",
      "display_name": "Python 3"
    },
    "language_info": {
      "name": "python"
    }
  },
  "cells": [
    {
      "cell_type": "markdown",
      "metadata": {
        "id": "view-in-github",
        "colab_type": "text"
      },
      "source": [
        "<a href=\"https://colab.research.google.com/github/EPVIAX/Algoritmos/blob/main/algoritmos_de_ordenamiento.ipynb\" target=\"_parent\"><img src=\"https://colab.research.google.com/assets/colab-badge.svg\" alt=\"Open In Colab\"/></a>"
      ]
    },
    {
      "cell_type": "code",
      "execution_count": null,
      "metadata": {
        "id": "oelSUL6nAJuG"
      },
      "outputs": [],
      "source": [
        "# Algoritmo selection sort\n",
        "def selection_sort(arr):\n",
        "    n = len(arr)\n",
        "    #print(\"cantidad de numeros:\",n)\n",
        "    for i in range(n):\n",
        "        min_idx = i\n",
        "        #print(\"minimo\",i)\n",
        "        for j in range(i+1, n):\n",
        "            #print(\"j\",j,'minimo actual',arr[min_idx])\n",
        "            if arr[j] < arr[min_idx]:\n",
        "                min_idx = j\n",
        "        arr[i], arr[min_idx] = arr[min_idx], arr[i]\n",
        "        #print('ordenado has el momento', arr)\n",
        "    return arr"
      ]
    },
    {
      "cell_type": "code",
      "source": [
        "lista = [64, 34, 25, 12, 22, 11, 90]\n",
        "selection_sort(lista)"
      ],
      "metadata": {
        "colab": {
          "base_uri": "https://localhost:8080/"
        },
        "id": "gxJExgQRA_c5",
        "outputId": "71d0b078-ef41-4442-8b75-268889ce17b5"
      },
      "execution_count": null,
      "outputs": [
        {
          "output_type": "execute_result",
          "data": {
            "text/plain": [
              "[11, 12, 22, 25, 34, 64, 90]"
            ]
          },
          "metadata": {},
          "execution_count": 24
        }
      ]
    },
    {
      "cell_type": "code",
      "source": [
        "def merge_sort(arr):\n",
        "    if len(arr) > 1:\n",
        "        mid = len(arr) // 2\n",
        "        left_half = arr[:mid]\n",
        "        #print(\"izquierda\",left_half)\n",
        "        right_half = arr[mid:]\n",
        "        #print(\"derecha\",right_half)\n",
        "        #print('+++++++')\n",
        "        merge_sort(left_half)\n",
        "        #print('union izquierdo', left_half)\n",
        "        merge_sort(right_half)\n",
        "        #print('union derecho', right_half)\n",
        "\n",
        "        i = j = k = 0\n",
        "\n",
        "        while i < len(left_half) and j < len(right_half):\n",
        "            if left_half[i] < right_half[j]:\n",
        "                arr[k] = left_half[i]\n",
        "                i += 1\n",
        "            else:\n",
        "                arr[k] = right_half[j]\n",
        "                j += 1\n",
        "            k += 1\n",
        "\n",
        "        while i < len(left_half):\n",
        "            arr[k] = left_half[i]\n",
        "            i += 1\n",
        "            k += 1\n",
        "\n",
        "        while j < len(right_half):\n",
        "            arr[k] = right_half[j]\n",
        "            j += 1\n",
        "            k += 1\n",
        "\n",
        "    return arr\n"
      ],
      "metadata": {
        "id": "y3T4lXMSAQgx"
      },
      "execution_count": null,
      "outputs": []
    },
    {
      "cell_type": "code",
      "source": [
        "lista1 = [64, 34, 25, 12, 22, 11, 90]\n",
        "merge_sort(lista1)"
      ],
      "metadata": {
        "colab": {
          "base_uri": "https://localhost:8080/"
        },
        "id": "twm87dK0D-hb",
        "outputId": "028e6a61-7e8c-4e71-eb18-0a5f04d472ba"
      },
      "execution_count": null,
      "outputs": [
        {
          "output_type": "execute_result",
          "data": {
            "text/plain": [
              "[11, 12, 22, 25, 34, 64, 90]"
            ]
          },
          "metadata": {},
          "execution_count": 26
        }
      ]
    },
    {
      "cell_type": "code",
      "source": [
        "def quick_sort(arr):\n",
        "    if len(arr) <= 1:\n",
        "        return arr\n",
        "    else:\n",
        "        pivot = arr[len(arr) // 2]\n",
        "        #print(\"pivote\",pivot)\n",
        "        left = [x for x in arr if x < pivot]\n",
        "        #print(\"izquierda\",left)\n",
        "        middle = [x for x in arr if x == pivot]\n",
        "        #print(\"medio\",middle)\n",
        "        right = [x for x in arr if x > pivot]\n",
        "        #print(\"derecha\",right)\n",
        "        return quick_sort(left) + middle + quick_sort(right)"
      ],
      "metadata": {
        "id": "STyo4eZ8NjJo"
      },
      "execution_count": null,
      "outputs": []
    },
    {
      "cell_type": "code",
      "source": [
        "lista2 = [64, 34, 25, 12, 22, 11, 90]\n",
        "quick_sort(lista2)"
      ],
      "metadata": {
        "colab": {
          "base_uri": "https://localhost:8080/"
        },
        "id": "BYRqpsZ2QUYN",
        "outputId": "9b4c1f12-fb46-4bf9-87d7-2dd5c0653495"
      },
      "execution_count": null,
      "outputs": [
        {
          "output_type": "execute_result",
          "data": {
            "text/plain": [
              "[11, 12, 22, 25, 34, 64, 90]"
            ]
          },
          "metadata": {},
          "execution_count": 2
        }
      ]
    },
    {
      "cell_type": "code",
      "source": [
        "def counting_sort_for_radix(arr, exp):\n",
        "    n = len(arr)\n",
        "    output = [0] * n  # Array de salida que almacenará los resultados ordenados\n",
        "    count = [0] * 10  # Array para almacenar el conteo de dígitos\n",
        "\n",
        "    # Almacenar el conteo de ocurrencias en count[]\n",
        "    for i in range(n):\n",
        "        index = arr[i] // exp\n",
        "        count[index % 10] += 1\n",
        "\n",
        "    # Cambiar count[i] para que contenga la posición real de este dígito en output[]\n",
        "    for i in range(1, 10):\n",
        "        count[i] += count[i - 1]\n",
        "\n",
        "    # Construir el array de salida\n",
        "    i = n - 1\n",
        "    while i >= 0:\n",
        "        index = arr[i] // exp\n",
        "        output[count[index % 10] - 1] = arr[i]\n",
        "        count[index % 10] -= 1\n",
        "        i -= 1\n",
        "\n",
        "    # Copiar el array de salida a arr[], para que arr ahora contenga los números ordenados según el dígito actual\n",
        "    for i in range(n):\n",
        "        arr[i] = output[i]\n",
        "\n",
        "def radix_sort(arr):\n",
        "    # Encontrar el número máximo para saber el número de dígitos\n",
        "    max1 = max(arr)\n",
        "\n",
        "    # Aplicar Counting Sort para cada dígito, comenzando desde el dígito menos significativo\n",
        "    exp = 1\n",
        "    while max1 // exp > 0:\n",
        "        counting_sort_for_radix(arr, exp)\n",
        "        exp *= 10\n",
        "\n",
        "# Ejemplo de uso:\n",
        "numeros = [170, 45, 75, 90, 802, 24, 2, 66]\n",
        "radix_sort(numeros)\n",
        "print(\"Lista ordenada:\", numeros)\n"
      ],
      "metadata": {
        "colab": {
          "base_uri": "https://localhost:8080/"
        },
        "id": "hRM3u_Z3TLK7",
        "outputId": "674df898-c2dd-43de-c003-b72766fbdee1"
      },
      "execution_count": null,
      "outputs": [
        {
          "output_type": "stream",
          "name": "stdout",
          "text": [
            "Lista ordenada: [2, 24, 45, 66, 75, 90, 170, 802]\n"
          ]
        }
      ]
    },
    {
      "cell_type": "code",
      "source": [
        "MIN_RUN = 32\n",
        "\n",
        "def insertion_sort(arr, left, right):\n",
        "    for i in range(left + 1, right + 1):\n",
        "        key = arr[i]\n",
        "        j = i - 1\n",
        "        while j >= left and arr[j] > key:\n",
        "            arr[j + 1] = arr[j]\n",
        "            j -= 1\n",
        "        arr[j + 1] = key\n",
        "\n",
        "def merge(arr, l, m, r):\n",
        "    len1, len2 = m - l + 1, r - m\n",
        "    left, right = [], []\n",
        "\n",
        "    for i in range(0, len1):\n",
        "        left.append(arr[l + i])\n",
        "    for i in range(0, len2):\n",
        "        right.append(arr[m + 1 + i])\n",
        "\n",
        "    i, j, k = 0, 0, l\n",
        "\n",
        "    while i < len1 and j < len2:\n",
        "        if left[i] <= right[j]:\n",
        "            arr[k] = left[i]\n",
        "            i += 1\n",
        "        else:\n",
        "            arr[k] = right[j]\n",
        "            j += 1\n",
        "        k += 1\n",
        "\n",
        "    while i < len1:\n",
        "        arr[k] = left[i]\n",
        "        i += 1\n",
        "        k += 1\n",
        "\n",
        "    while j < len2:\n",
        "        arr[k] = right[j]\n",
        "        j += 1\n",
        "        k += 1\n",
        "\n",
        "def tim_sort(arr):\n",
        "    n = len(arr)\n",
        "\n",
        "    for i in range(0, n, MIN_RUN):\n",
        "        insertion_sort(arr, i, min(i + MIN_RUN - 1, n - 1))\n",
        "\n",
        "    size = MIN_RUN\n",
        "    while size < n:\n",
        "        for left in range(0, n, 2 * size):\n",
        "            mid = min(n - 1, left + size - 1)\n",
        "            right = min((left + 2 * size - 1), (n - 1))\n",
        "            if mid < right:\n",
        "                merge(arr, left, mid, right)\n",
        "        size *= 2\n",
        "\n"
      ],
      "metadata": {
        "id": "YvfPv3-tXB_z"
      },
      "execution_count": null,
      "outputs": []
    },
    {
      "cell_type": "code",
      "source": [
        "import random\n",
        "import time\n",
        "\n",
        "# Generar una lista aleatoria\n",
        "def generate_random_list(size):\n",
        "    return [random.randint(0, 1000) for _ in range(size)]\n",
        "\n",
        "# Comparar tiempos de ejecución\n",
        "def compare_algorithms():\n",
        "    sizes = [100, 1000, 10000, 100000, 1000000]\n",
        "\n",
        "    for size in sizes:\n",
        "        random_list = generate_random_list(size)\n",
        "\n",
        "        # Copiar la lista para usarla con ambos algoritmos\n",
        "        list_for_quick_sort = random_list[:]\n",
        "        list_for_merge_sort = random_list[:]\n",
        "        list_for_radix_sort = random_list[:]\n",
        "        list_for_tim_sort = random_list[:]\n",
        "\n",
        "        # Medir tiempo para Quick Sort\n",
        "        start_time = time.time()\n",
        "        quick_sort(list_for_quick_sort)\n",
        "        quick_sort_time = time.time() - start_time\n",
        "\n",
        "        # Medir tiempo para Merge Sort\n",
        "        start_time = time.time()\n",
        "        merge_sort(list_for_merge_sort)\n",
        "        merge_sort_time = time.time() - start_time\n",
        "\n",
        "        # Medir tiempo para Radix Sort\n",
        "        start_time = time.time()\n",
        "        radix_sort(list_for_merge_sort)\n",
        "        radix_sort_time = time.time() - start_time\n",
        "\n",
        "        # Medir tiempo para Tim Sort\n",
        "        start_time = time.time()\n",
        "        tim_sort(list_for_tim_sort)\n",
        "        tim_sort_time = time.time() - start_time\n",
        "\n",
        "        print(f\"Size: {size}\")\n",
        "        print(f\"Quick_sort Time: {quick_sort_time:.6f} seconds\")\n",
        "        print(f\"Merge Sort Time: {merge_sort_time:.6f} seconds\")\n",
        "        print(f\"Radix Sort Time: {radix_sort_time:.6f} seconds\")\n",
        "        print(f\"Tim Sort Time: {tim_sort_time:.6f} seconds\")\n",
        "\n",
        "        print()\n",
        "\n",
        "compare_algorithms()\n"
      ],
      "metadata": {
        "colab": {
          "base_uri": "https://localhost:8080/"
        },
        "id": "ZhmsafBdAStI",
        "outputId": "941aee7d-c673-4e22-f230-65018145350f"
      },
      "execution_count": null,
      "outputs": [
        {
          "output_type": "stream",
          "name": "stdout",
          "text": [
            "Size: 100\n",
            "Quick_sort Time: 0.000322 seconds\n",
            "Merge Sort Time: 0.000437 seconds\n",
            "Radix Sort Time: 0.000715 seconds\n",
            "Tim Sort Time: 0.000251 seconds\n",
            "\n",
            "Size: 1000\n",
            "Quick_sort Time: 0.002377 seconds\n",
            "Merge Sort Time: 0.003449 seconds\n",
            "Radix Sort Time: 0.002262 seconds\n",
            "Tim Sort Time: 0.004979 seconds\n",
            "\n",
            "Size: 10000\n",
            "Quick_sort Time: 0.023686 seconds\n",
            "Merge Sort Time: 0.044759 seconds\n",
            "Radix Sort Time: 0.024964 seconds\n",
            "Tim Sort Time: 0.048209 seconds\n",
            "\n",
            "Size: 100000\n",
            "Quick_sort Time: 0.185436 seconds\n",
            "Merge Sort Time: 0.580305 seconds\n",
            "Radix Sort Time: 0.266204 seconds\n",
            "Tim Sort Time: 0.649416 seconds\n",
            "\n",
            "Size: 1000000\n",
            "Quick_sort Time: 2.798652 seconds\n",
            "Merge Sort Time: 8.390109 seconds\n",
            "Radix Sort Time: 3.518525 seconds\n",
            "Tim Sort Time: 9.501799 seconds\n",
            "\n"
          ]
        }
      ]
    }
  ]
}